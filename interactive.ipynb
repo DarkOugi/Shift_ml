{
 "cells": [
  {
   "cell_type": "code",
   "execution_count": 1,
   "metadata": {
    "collapsed": true
   },
   "outputs": [],
   "source": [
    "# все библиотеки использованные в проекте\n",
    "import pandas as pd\n",
    "import numpy as np\n",
    "import sklearn\n",
    "import matplotlib.pyplot as plt"
   ]
  },
  {
   "cell_type": "code",
   "execution_count": 83,
   "outputs": [],
   "source": [
    "# обучающие данные\n",
    "df_x = pd.read_csv('data/X_train.csv')\n",
    "df_y = pd.read_csv('data/y_train.csv')"
   ],
   "metadata": {
    "collapsed": false
   }
  },
  {
   "cell_type": "code",
   "execution_count": 86,
   "outputs": [
    {
     "name": "stdout",
     "output_type": "stream",
     "text": [
      "<class 'pandas.core.frame.DataFrame'>\n",
      "RangeIndex: 1199861 entries, 0 to 1199860\n",
      "Data columns (total 49 columns):\n",
      " #   Column                      Non-Null Count    Dtype  \n",
      "---  ------                      --------------    -----  \n",
      " 0   index                       1199861 non-null  int64  \n",
      " 1   acc_now_delinq              1199861 non-null  float64\n",
      " 2   addr_state                  1199861 non-null  object \n",
      " 3   annual_inc                  1199861 non-null  float64\n",
      " 4   chargeoff_within_12_mths    1199824 non-null  float64\n",
      " 5   collections_12_mths_ex_med  1199824 non-null  float64\n",
      " 6   delinq_2yrs                 1199861 non-null  float64\n",
      " 7   dti                         1199861 non-null  float64\n",
      " 8   earliest_cr_line            1199861 non-null  object \n",
      " 9   emp_length                  1128114 non-null  float64\n",
      " 10  fico_range_high             1199861 non-null  float64\n",
      " 11  fico_range_low              1199861 non-null  float64\n",
      " 12  funded_amnt                 1199861 non-null  float64\n",
      " 13  home_ownership              1199861 non-null  object \n",
      " 14  inq_last_12m                632646 non-null   float64\n",
      " 15  installment                 1199861 non-null  float64\n",
      " 16  int_rate                    1199861 non-null  float64\n",
      " 17  issue_d                     1199861 non-null  object \n",
      " 18  loan_amnt                   1199861 non-null  float64\n",
      " 19  mort_acc                    1168320 non-null  float64\n",
      " 20  mths_since_last_delinq      592418 non-null   float64\n",
      " 21  mths_since_recent_bc_dlq    282665 non-null   float64\n",
      " 22  mths_since_recent_inq       1050080 non-null  float64\n",
      " 23  num_accts_ever_120_pd       1154852 non-null  float64\n",
      " 24  num_actv_bc_tl              1154852 non-null  float64\n",
      " 25  num_rev_accts               1154851 non-null  float64\n",
      " 26  num_sats                    1162566 non-null  float64\n",
      " 27  num_tl_120dpd_2m            1109253 non-null  float64\n",
      " 28  num_tl_30dpd                1154852 non-null  float64\n",
      " 29  num_tl_90g_dpd_24m          1154852 non-null  float64\n",
      " 30  num_tl_op_past_12m          1154852 non-null  float64\n",
      " 31  open_acc                    1199861 non-null  float64\n",
      " 32  open_il_24m                 632647 non-null   float64\n",
      " 33  open_rv_24m                 632647 non-null   float64\n",
      " 34  percent_bc_gt_75            1155527 non-null  float64\n",
      " 35  pub_rec                     1199861 non-null  float64\n",
      " 36  pub_rec_bankruptcies        1199394 non-null  float64\n",
      " 37  purpose                     1199861 non-null  object \n",
      " 38  revol_util                  1199020 non-null  float64\n",
      " 39  tax_liens                   1199833 non-null  float64\n",
      " 40  term                        1199861 non-null  int64  \n",
      " 41  title                       1186061 non-null  object \n",
      " 42  total_acc                   1199861 non-null  float64\n",
      " 43  verification_status         1199861 non-null  int64  \n",
      " 44  zip_code                    1199860 non-null  object \n",
      " 45  issue_d_month               1199861 non-null  object \n",
      " 46  issue_d_year                1199861 non-null  int64  \n",
      " 47  earliest_cr_line_month      1199861 non-null  object \n",
      " 48  earliest_cr_line_year       1199861 non-null  int64  \n",
      "dtypes: float64(35), int64(5), object(9)\n",
      "memory usage: 448.6+ MB\n"
     ]
    }
   ],
   "source": [
    "df_x.info()"
   ],
   "metadata": {
    "collapsed": false
   }
  },
  {
   "cell_type": "code",
   "execution_count": 8,
   "outputs": [
    {
     "data": {
      "text/plain": "   index  acc_now_delinq addr_state  annual_inc  chargeoff_within_12_mths   \n0      0             0.0         UT     80000.0                       0.0  \\\n1      1             0.0         CA     82000.0                       0.0   \n2      2             0.0         NV     46080.0                       0.0   \n3      3             0.0         AZ     30000.0                       0.0   \n4      4             0.0         OH     70000.0                       0.0   \n\n   collections_12_mths_ex_med  delinq_2yrs    dti earliest_cr_line emp_length   \n0                         0.0          0.0  30.49         Oct-1996    4 years  \\\n1                         0.0          0.0   7.00         Mar-1993  10+ years   \n2                         0.0          1.0  17.32         Nov-2000    3 years   \n3                         0.0          0.0   7.80         Jan-2010   < 1 year   \n4                         0.0          0.0  13.36         Jan-2002   < 1 year   \n\n   ...  pub_rec  pub_rec_bankruptcies      purpose revol_util  tax_liens   \n0  ...      1.0                   1.0  credit_card      56.1%        0.0  \\\n1  ...      1.0                   1.0  credit_card      88.3%        0.0   \n2  ...      0.0                   0.0  credit_card      18.1%        0.0   \n3  ...      0.0                   0.0          car      33.4%        0.0   \n4  ...      0.0                   0.0        other      88.6%        0.0   \n\n         term                    title total_acc  verification_status   \n0   36 months  Credit card refinancing      26.0      Source Verified  \\\n1   36 months  Credit card refinancing      11.0         Not Verified   \n2   36 months  Credit card refinancing      31.0      Source Verified   \n3   36 months            Car financing      24.0      Source Verified   \n4   60 months                    Other      16.0         Not Verified   \n\n   zip_code  \n0     847xx  \n1     900xx  \n2     895xx  \n3     853xx  \n4     453xx  \n\n[5 rows x 45 columns]",
      "text/html": "<div>\n<style scoped>\n    .dataframe tbody tr th:only-of-type {\n        vertical-align: middle;\n    }\n\n    .dataframe tbody tr th {\n        vertical-align: top;\n    }\n\n    .dataframe thead th {\n        text-align: right;\n    }\n</style>\n<table border=\"1\" class=\"dataframe\">\n  <thead>\n    <tr style=\"text-align: right;\">\n      <th></th>\n      <th>index</th>\n      <th>acc_now_delinq</th>\n      <th>addr_state</th>\n      <th>annual_inc</th>\n      <th>chargeoff_within_12_mths</th>\n      <th>collections_12_mths_ex_med</th>\n      <th>delinq_2yrs</th>\n      <th>dti</th>\n      <th>earliest_cr_line</th>\n      <th>emp_length</th>\n      <th>...</th>\n      <th>pub_rec</th>\n      <th>pub_rec_bankruptcies</th>\n      <th>purpose</th>\n      <th>revol_util</th>\n      <th>tax_liens</th>\n      <th>term</th>\n      <th>title</th>\n      <th>total_acc</th>\n      <th>verification_status</th>\n      <th>zip_code</th>\n    </tr>\n  </thead>\n  <tbody>\n    <tr>\n      <th>0</th>\n      <td>0</td>\n      <td>0.0</td>\n      <td>UT</td>\n      <td>80000.0</td>\n      <td>0.0</td>\n      <td>0.0</td>\n      <td>0.0</td>\n      <td>30.49</td>\n      <td>Oct-1996</td>\n      <td>4 years</td>\n      <td>...</td>\n      <td>1.0</td>\n      <td>1.0</td>\n      <td>credit_card</td>\n      <td>56.1%</td>\n      <td>0.0</td>\n      <td>36 months</td>\n      <td>Credit card refinancing</td>\n      <td>26.0</td>\n      <td>Source Verified</td>\n      <td>847xx</td>\n    </tr>\n    <tr>\n      <th>1</th>\n      <td>1</td>\n      <td>0.0</td>\n      <td>CA</td>\n      <td>82000.0</td>\n      <td>0.0</td>\n      <td>0.0</td>\n      <td>0.0</td>\n      <td>7.00</td>\n      <td>Mar-1993</td>\n      <td>10+ years</td>\n      <td>...</td>\n      <td>1.0</td>\n      <td>1.0</td>\n      <td>credit_card</td>\n      <td>88.3%</td>\n      <td>0.0</td>\n      <td>36 months</td>\n      <td>Credit card refinancing</td>\n      <td>11.0</td>\n      <td>Not Verified</td>\n      <td>900xx</td>\n    </tr>\n    <tr>\n      <th>2</th>\n      <td>2</td>\n      <td>0.0</td>\n      <td>NV</td>\n      <td>46080.0</td>\n      <td>0.0</td>\n      <td>0.0</td>\n      <td>1.0</td>\n      <td>17.32</td>\n      <td>Nov-2000</td>\n      <td>3 years</td>\n      <td>...</td>\n      <td>0.0</td>\n      <td>0.0</td>\n      <td>credit_card</td>\n      <td>18.1%</td>\n      <td>0.0</td>\n      <td>36 months</td>\n      <td>Credit card refinancing</td>\n      <td>31.0</td>\n      <td>Source Verified</td>\n      <td>895xx</td>\n    </tr>\n    <tr>\n      <th>3</th>\n      <td>3</td>\n      <td>0.0</td>\n      <td>AZ</td>\n      <td>30000.0</td>\n      <td>0.0</td>\n      <td>0.0</td>\n      <td>0.0</td>\n      <td>7.80</td>\n      <td>Jan-2010</td>\n      <td>&lt; 1 year</td>\n      <td>...</td>\n      <td>0.0</td>\n      <td>0.0</td>\n      <td>car</td>\n      <td>33.4%</td>\n      <td>0.0</td>\n      <td>36 months</td>\n      <td>Car financing</td>\n      <td>24.0</td>\n      <td>Source Verified</td>\n      <td>853xx</td>\n    </tr>\n    <tr>\n      <th>4</th>\n      <td>4</td>\n      <td>0.0</td>\n      <td>OH</td>\n      <td>70000.0</td>\n      <td>0.0</td>\n      <td>0.0</td>\n      <td>0.0</td>\n      <td>13.36</td>\n      <td>Jan-2002</td>\n      <td>&lt; 1 year</td>\n      <td>...</td>\n      <td>0.0</td>\n      <td>0.0</td>\n      <td>other</td>\n      <td>88.6%</td>\n      <td>0.0</td>\n      <td>60 months</td>\n      <td>Other</td>\n      <td>16.0</td>\n      <td>Not Verified</td>\n      <td>453xx</td>\n    </tr>\n  </tbody>\n</table>\n<p>5 rows × 45 columns</p>\n</div>"
     },
     "execution_count": 8,
     "metadata": {},
     "output_type": "execute_result"
    }
   ],
   "source": [
    "df_x.head()"
   ],
   "metadata": {
    "collapsed": false
   }
  },
  {
   "cell_type": "markdown",
   "source": [
    "## Приведение даненых к нормальному виду"
   ],
   "metadata": {
    "collapsed": false
   }
  },
  {
   "cell_type": "markdown",
   "source": [
    "### 1 - избавление от лишних столбйцов\n",
    "zip_code - возможно имеет зависимость географическое положение (пока не дропаем)(кодируем)"
   ],
   "metadata": {
    "collapsed": false
   }
  },
  {
   "cell_type": "markdown",
   "source": [
    "### Функции преобразования данных"
   ],
   "metadata": {
    "collapsed": false
   }
  },
  {
   "cell_type": "code",
   "execution_count": 68,
   "outputs": [],
   "source": [
    "# функция создания глобальных файлов\n",
    "def create_global_file(df, name_column, name_txt):\n",
    "    dict_df = {}\n",
    "    j = 1\n",
    "    for i in df[name_column].unique().tolist():\n",
    "        if pd.isna(i):\n",
    "            pass\n",
    "        else:\n",
    "            dict_df[i] = j\n",
    "            j += 1\n",
    "    with open(f'global_files/{name_txt}.txt', 'w', encoding='utf-8') as f:\n",
    "        for x, y in dict_df.items():\n",
    "            f.write(f'{x} {y}\\n')\n",
    "\n",
    "\n",
    "def load_global_file(file_name, type=1):\n",
    "    with open(f'{file_name}', 'r', encoding='utf-8') as f:\n",
    "        res = {}\n",
    "        for i in f.readlines():\n",
    "            if type == 1:\n",
    "                key, value = i.split()\n",
    "            else:\n",
    "                s_split = i.split()\n",
    "                key, value = (''.join(s_split[:-1:])), s_split[-1]\n",
    "\n",
    "            res[key] = int(value)\n",
    "\n",
    "    return res\n"
   ],
   "metadata": {
    "collapsed": false
   }
  },
  {
   "cell_type": "code",
   "execution_count": 77,
   "outputs": [],
   "source": [
    "# функции преобразования данных\n",
    "def convert_verification_status_to_int(x):\n",
    "    if x == 'Source Verified':\n",
    "        return 1\n",
    "    elif x == 'Not Verified':\n",
    "        return 2\n",
    "    else:\n",
    "        return 3\n",
    "def convert_workyear(x):\n",
    "    s = ''.join(x.split())\n",
    "    if s[2] == '+':\n",
    "        return 10\n",
    "    elif s[0] == '<':\n",
    "        return 0\n",
    "    else:\n",
    "        return int(s[0])\n"
   ],
   "metadata": {
    "collapsed": false
   }
  },
  {
   "cell_type": "code",
   "execution_count": null,
   "outputs": [],
   "source": [
    "# создание глобальных файлов, чтобы новый поток данных кадировлся идентично старым\n",
    "create_global_file(df_x, 'zip_code', 'zip_code')\n",
    "create_global_file(df_x, 'addr_state', 'addr_state')\n",
    "create_global_file(df_x, 'home_ownership', 'home_ownership')\n",
    "create_global_file(df_x, 'title', 'title')\n",
    "create_global_file(df_x, 'purpose', 'purpose')\n",
    "create_global_file(df_x, 'earliest_cr_line_month', 'month')"
   ],
   "metadata": {
    "collapsed": false
   }
  },
  {
   "cell_type": "code",
   "execution_count": 32,
   "outputs": [],
   "source": [
    "# пути к глобальным файлам в которых кодируются строки\n",
    "ZIP_CODE_FILE = 'global_files/zip_code.txt'\n",
    "ADDR_STATE = 'global_files/addr_state.txt'\n",
    "HOME_OWNERSHIP = 'global_files/home_ownership.txt'\n",
    "TITLE = 'global_files/title.txt'\n",
    "PURPOSE_FILE = 'global_files/purpose.txt'\n",
    "MONTH_FILE = 'global_files/month.txt'"
   ],
   "metadata": {
    "collapsed": false
   }
  },
  {
   "cell_type": "code",
   "execution_count": 85,
   "outputs": [],
   "source": [
    "df_x['term'] = df_x['term'].apply(lambda x: x if pd.isna(x) else int(x.split()[0]))\n",
    "df_x['emp_length'] = df_x['emp_length'].apply(lambda x: x if pd.isna(x) else convert_workyear(x))\n",
    "df_x['int_rate'] = df_x['int_rate'].apply(lambda x: x if pd.isna(x) else float(x.split('%')[0]))\n",
    "df_x['revol_util'] = df_x['revol_util'].apply(lambda x: x if pd.isna(x) else float(x.split('%')[0]))\n",
    "df_x['issue_d_month'] = df_x.issue_d.apply(lambda x: x if pd.isna(x) else x.split('-')[0])\n",
    "df_x['issue_d_year'] = df_x.issue_d.apply(lambda x: x if pd.isna(x) else int(x.split('-')[1]))\n",
    "df_x['earliest_cr_line_month'] = df_x.issue_d.apply(lambda x: x if pd.isna(x) else x.split('-')[0])\n",
    "df_x['earliest_cr_line_year'] = df_x.issue_d.apply(lambda x: x if pd.isna(x) else int(x.split('-')[1]))\n",
    "df_x['verification_status'] = df_x['verification_status'].apply(\n",
    "    lambda x: x if pd.isna(x) else convert_verification_status_to_int(x))\n"
   ],
   "metadata": {
    "collapsed": false
   }
  },
  {
   "cell_type": "code",
   "execution_count": 80,
   "outputs": [],
   "source": [
    "zip_code_dict = load_global_file(ZIP_CODE_FILE)\n",
    "df_x['zip_code'] = df_x['zip_code'].apply(lambda x: x if pd.isna(x) else zip_code_dict[x])\n",
    "addr_state_dict = load_global_file(ADDR_STATE)\n",
    "df_x['addr_state'] = df_x['addr_state'].apply(lambda x: x if pd.isna(x) else addr_state_dict[x])\n",
    "home_ownership_dict = load_global_file(HOME_OWNERSHIP)\n",
    "df_x['home_ownership'] = df_x['home_ownership'].apply(lambda x: x if pd.isna(x) else home_ownership_dict[x])\n",
    "title_dict = load_global_file(TITLE, 'title')\n",
    "df_x['title'] = df_x['title'].apply(lambda x: x if pd.isna(x) else title_dict[''.join(x.split())])\n",
    "purpose_dict = load_global_file(PURPOSE_FILE)\n",
    "df_x['purpose'] = df_x['purpose'].apply(lambda x: x if pd.isna(x) else purpose_dict[x])\n",
    "month_dict = load_global_file(MONTH_FILE)\n",
    "df_x['earliest_cr_line_month'] = df_x['earliest_cr_line_month'].apply(lambda x: x if pd.isna(x) else month_dict[x])\n",
    "df_x['issue_d_month'] = df_x['issue_d_month'].apply(lambda x: x if pd.isna(x) else month_dict[x])"
   ],
   "metadata": {
    "collapsed": false
   }
  },
  {
   "cell_type": "code",
   "execution_count": 81,
   "outputs": [],
   "source": [
    "# удаление луже не нужных столбцов\n",
    "df_x.drop(['issue_d','earliest_cr_line'],axis=1,inplace=True)"
   ],
   "metadata": {
    "collapsed": false
   }
  },
  {
   "cell_type": "code",
   "execution_count": 76,
   "outputs": [
    {
     "data": {
      "text/plain": "emp_length\n10+ years    396911\n2 years      109336\n3 years       96813\n< 1 year      94486\n1 year        79958\n5 years       75440\n4 years       72998\n6 years       55398\n8 years       51577\n7 years       51168\n9 years       44029\nName: count, dtype: int64"
     },
     "execution_count": 76,
     "metadata": {},
     "output_type": "execute_result"
    }
   ],
   "source": [
    "df_x['emp_length'].value_counts()"
   ],
   "metadata": {
    "collapsed": false
   }
  }
 ],
 "metadata": {
  "kernelspec": {
   "display_name": "Python 3",
   "language": "python",
   "name": "python3"
  },
  "language_info": {
   "codemirror_mode": {
    "name": "ipython",
    "version": 2
   },
   "file_extension": ".py",
   "mimetype": "text/x-python",
   "name": "python",
   "nbconvert_exporter": "python",
   "pygments_lexer": "ipython2",
   "version": "2.7.6"
  }
 },
 "nbformat": 4,
 "nbformat_minor": 0
}
